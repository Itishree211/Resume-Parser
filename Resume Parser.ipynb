{
 "cells": [
  {
   "cell_type": "code",
   "execution_count": 1,
   "metadata": {},
   "outputs": [],
   "source": [
    "from pyresparser import ResumeParser"
   ]
  },
  {
   "cell_type": "code",
   "execution_count": 2,
   "metadata": {},
   "outputs": [],
   "source": [
    "resume = \"C:\\\\Users\\\\Itishree\\\\Downloads\\\\Itishree_DS_Intern.docx\""
   ]
  },
  {
   "cell_type": "code",
   "execution_count": 3,
   "metadata": {},
   "outputs": [],
   "source": [
    "data = ResumeParser(resume).get_extracted_data()"
   ]
  },
  {
   "cell_type": "code",
   "execution_count": 4,
   "metadata": {},
   "outputs": [
    {
     "data": {
      "text/plain": [
       "{'name': 'Itishree Palai Mobile',\n",
       " 'email': 'itishree211@gmail.com',\n",
       " 'mobile_number': '9035181754',\n",
       " 'skills': ['Statistics',\n",
       "  'Analyze',\n",
       "  'Parser',\n",
       "  'Opencv',\n",
       "  'Windows',\n",
       "  'Unix',\n",
       "  'Ibm',\n",
       "  'Pdf',\n",
       "  'Seaborn',\n",
       "  'Database',\n",
       "  'Tensorflow',\n",
       "  'Algorithms',\n",
       "  'Analytical',\n",
       "  'Spyder',\n",
       "  'Aws',\n",
       "  'Programming',\n",
       "  'Solaris',\n",
       "  'Tableau',\n",
       "  'Mobile',\n",
       "  'Numpy',\n",
       "  'Oracle',\n",
       "  'Matplotlib',\n",
       "  'Python',\n",
       "  'Computer applications',\n",
       "  'Github',\n",
       "  'Technical',\n",
       "  'Architecture',\n",
       "  'Linux',\n",
       "  'Pandas',\n",
       "  'Operations'],\n",
       " 'college_name': None,\n",
       " 'degree': None,\n",
       " 'designation': None,\n",
       " 'experience': None,\n",
       " 'company_names': ['Oracle'],\n",
       " 'no_of_pages': None,\n",
       " 'total_experience': 0}"
      ]
     },
     "execution_count": 4,
     "metadata": {},
     "output_type": "execute_result"
    }
   ],
   "source": [
    "data"
   ]
  },
  {
   "cell_type": "code",
   "execution_count": null,
   "metadata": {},
   "outputs": [],
   "source": []
  }
 ],
 "metadata": {
  "kernelspec": {
   "display_name": "Python 3",
   "language": "python",
   "name": "python3"
  },
  "language_info": {
   "codemirror_mode": {
    "name": "ipython",
    "version": 3
   },
   "file_extension": ".py",
   "mimetype": "text/x-python",
   "name": "python",
   "nbconvert_exporter": "python",
   "pygments_lexer": "ipython3",
   "version": "3.6.5"
  }
 },
 "nbformat": 4,
 "nbformat_minor": 2
}
